{
  "nbformat": 4,
  "nbformat_minor": 0,
  "metadata": {
    "colab": {
      "provenance": []
    },
    "kernelspec": {
      "name": "python3",
      "display_name": "Python 3"
    },
    "language_info": {
      "name": "python"
    }
  },
  "cells": [
    {
      "cell_type": "code",
      "execution_count": null,
      "metadata": {
        "id": "CfNT10F19H4F"
      },
      "outputs": [],
      "source": [
        "!pip install requests\n",
        "!pip install beautifulsoup4\n"
      ]
    },
    {
      "cell_type": "code",
      "source": [
        "from bs4 import BeautifulSoup\n",
        "import requests\n",
        "import pandas as pd"
      ],
      "metadata": {
        "id": "eZVhJ0XM9qV8"
      },
      "execution_count": null,
      "outputs": []
    },
    {
      "cell_type": "code",
      "source": [
        "import IPython\n",
        "page = IPython.display.HTML(filename='/content/allurls.html')"
      ],
      "metadata": {
        "id": "vIKDeumb-WkR"
      },
      "execution_count": null,
      "outputs": []
    },
    {
      "cell_type": "code",
      "source": [
        "with open(\"allurls.html\") as fp:\n",
        "    soup = BeautifulSoup(fp, \"html.parser\")"
      ],
      "metadata": {
        "id": "bUuk6qq___Nq"
      },
      "execution_count": null,
      "outputs": []
    },
    {
      "cell_type": "code",
      "source": [
        "pharmacy_urls = soup.find_all(\"div\", class_=\"listings\")\n",
        "for pharmacy_url in pharmacy_urls:\n",
        "  links = pharmacy_url.find_all(\"a\")\n",
        "\n",
        "  for link in links:\n",
        "    url_suffix = link[\"href\"]\n",
        "    all_links = \"https://www.countyoffice.org\" + url_suffix\n",
        "    #print(all_links)\n",
        "\n",
        "\n",
        "## ALL OF THIS FOR EACH INDIVIDUAL URL\n",
        "    page2 = requests.get(all_links)\n",
        "    hotsoup = BeautifulSoup(page2.content, \"html.parser\")\n",
        "    url_2 = hotsoup.find_all(\"div\", class_=\"col-md-7\")\n",
        "    for pharm_properties in url_2:\n",
        "      Name = pharm_properties.find(\"dd\", class_=\"name\")\n",
        "      Address_Parent = pharm_properties.find(\"dd\", class_=\"address\")\n",
        "      Address_City = Address_Parent.find(\"span\", class_=\"addressLocality\")\n",
        "      Address_State = Address_Parent.find(\"span\", class_=\"addressRegion\") \n",
        "      Address_Street = Address_Parent.find(\"span\", class_=\"streetAddress\")\n",
        "      #Address = [Address_Street, Address_City, Address_State]\n",
        "      Zip = Address_Parent.find(\"span\", class_=\"postalCode\")\n",
        "      Phone = pharm_properties.find(\"dd\", class_=\"telephone\")\n",
        "\n",
        "      print(Name.text.strip())\n",
        "      print(Address_Street.text.strip() + \" \" + Address_City.text.strip() + \", \" + Address_State.text.strip())\n",
        "      print(Zip.text.strip())\n",
        "      print(Phone.text.strip())"
      ],
      "metadata": {
        "id": "c5KjtMn4EXV-"
      },
      "execution_count": null,
      "outputs": []
    }
  ]
}